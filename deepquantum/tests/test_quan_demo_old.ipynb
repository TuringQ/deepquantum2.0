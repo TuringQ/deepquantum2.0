{
 "cells": [
  {
   "cell_type": "code",
   "execution_count": 1,
   "metadata": {},
   "outputs": [],
   "source": [
    "import numpy as np\n",
    "import matplotlib.pyplot as plt\n",
    "\n",
    "import torch\n",
    "from torchvision import datasets, transforms\n",
    "import torch.optim as optim\n",
    "import torch.nn as nn\n",
    "import torch.nn.functional as F\n",
    "from torch.utils.data import Dataset\n",
    "from deepquantum.nn.modules.quanv import QuanConv2D"
   ]
  },
  {
   "cell_type": "markdown",
   "metadata": {},
   "source": []
  },
  {
   "cell_type": "markdown",
   "metadata": {},
   "source": []
  },
  {
   "cell_type": "markdown",
   "metadata": {},
   "source": []
  },
  {
   "cell_type": "markdown",
   "metadata": {},
   "source": []
  },
  {
   "cell_type": "code",
   "execution_count": 13,
   "metadata": {},
   "outputs": [
    {
     "data": {
      "text/plain": [
       "<torch._C.Generator at 0x21d3fc6e4c8>"
      ]
     },
     "execution_count": 13,
     "metadata": {},
     "output_type": "execute_result"
    }
   ],
   "source": [
    "BATCH_SIZE = 5\n",
    "EPOCHS = 30     # Number of optimization epochs\n",
    "n_train = 500    # Size of the train dataset\n",
    "n_test = 5   # Size of the test dataset\n",
    "\n",
    "SAVE_PATH = \"../tests/\"  # Data saving folder\n",
    "PREPROCESS = True           # If False, skip quantum processing and load data from SAVE_PATH\n",
    "seed = 23\n",
    "np.random.seed(seed)        # Seed for NumPy random number generator\n",
    "torch.manual_seed(seed)     # Seed for TensorFlow random number generator"
   ]
  },
  {
   "cell_type": "code",
   "execution_count": 14,
   "metadata": {},
   "outputs": [],
   "source": [
    "DEVICE = torch.device(\"cpu\")\n",
    "\n",
    "train_dataset = datasets.MNIST(root=\"./data\",\n",
    "                               train=True,\n",
    "                               download=True,\n",
    "                               transform=transforms.ToTensor())\n",
    "\n",
    "train_dataset.data = train_dataset.data[:n_train]\n",
    "train_dataset.targets = train_dataset.targets[:n_train]\n",
    "\n",
    "test_dataset = datasets.MNIST(root=\"./data\",\n",
    "                              train=False,\n",
    "                              transform=transforms.ToTensor())\n",
    "\n",
    "test_dataset.data = test_dataset.data[:n_test]\n",
    "test_dataset.targets = test_dataset.targets[:n_test]"
   ]
  },
  {
   "cell_type": "code",
   "execution_count": 15,
   "metadata": {},
   "outputs": [],
   "source": [
    "class Net(nn.Module):\n",
    "    def __init__(self):\n",
    "        super(Net, self).__init__()\n",
    "        self.quan1 = QuanConv2D(n_qubits=4, stride=2, kernel_size=2)\n",
    "        self.fc1 = nn.Linear(14*14*4, 64)\n",
    "        self.fc2 = nn.Linear(64, 32)\n",
    "        self.fc3 = nn.Linear(32, 16)\n",
    "        self.fc4 = nn.Linear(16, 10)\n",
    "\n",
    "    def forward(self, x):\n",
    "        x = self.quan1(x)\n",
    "        x = torch.flatten(x, 1)\n",
    "        x = F.relu(self.fc1(x))\n",
    "        x = F.relu(self.fc2(x))\n",
    "        x = F.relu(self.fc3(x))\n",
    "        x = F.relu(self.fc4(x))\n",
    "        return x"
   ]
  },
  {
   "cell_type": "code",
   "execution_count": 16,
   "metadata": {},
   "outputs": [],
   "source": [
    "model = Net().to(DEVICE)\n",
    "optimizer = optim.Adam(model.parameters(), lr=0.01)\n",
    "loss_func = nn.CrossEntropyLoss()\n",
    "\n",
    "\n",
    "train_loader = torch.utils.data.DataLoader(dataset=train_dataset,\n",
    "                                           batch_size=BATCH_SIZE,\n",
    "                                           shuffle=False)\n",
    "\n",
    "test_loader = torch.utils.data.DataLoader(dataset=test_dataset,\n",
    "                                          batch_size=BATCH_SIZE,\n",
    "                                          shuffle=False)"
   ]
  },
  {
   "cell_type": "code",
   "execution_count": 17,
   "metadata": {},
   "outputs": [
    {
     "name": "stdout",
     "output_type": "stream",
     "text": [
      "Training [3%]\tLoss: 2.2116\n",
      "Training [7%]\tLoss: 1.9365\n",
      "Training [10%]\tLoss: 1.8016\n",
      "Training [13%]\tLoss: 1.8617\n",
      "Training [17%]\tLoss: 1.8549\n",
      "Training [20%]\tLoss: 1.8149\n",
      "Training [23%]\tLoss: 1.7804\n",
      "Training [27%]\tLoss: 1.6977\n",
      "Training [30%]\tLoss: 1.6205\n",
      "Training [33%]\tLoss: 1.5213\n",
      "Training [37%]\tLoss: 1.4945\n",
      "Training [40%]\tLoss: 1.4658\n",
      "Training [43%]\tLoss: 1.3726\n",
      "Training [47%]\tLoss: 1.2667\n",
      "Training [50%]\tLoss: 1.2686\n",
      "Training [53%]\tLoss: 1.2119\n",
      "Training [57%]\tLoss: 1.1255\n",
      "Training [60%]\tLoss: 1.1200\n",
      "Training [63%]\tLoss: 1.2115\n",
      "Training [67%]\tLoss: 1.2919\n",
      "Training [70%]\tLoss: 1.1138\n",
      "Training [73%]\tLoss: 1.0879\n",
      "Training [77%]\tLoss: 1.0773\n",
      "Training [80%]\tLoss: 1.1411\n",
      "Training [83%]\tLoss: 1.4680\n",
      "Training [87%]\tLoss: 1.2237\n",
      "Training [90%]\tLoss: 1.0615\n",
      "Training [93%]\tLoss: 1.0408\n",
      "Training [97%]\tLoss: 1.0114\n",
      "Training [100%]\tLoss: 0.9939\n"
     ]
    }
   ],
   "source": [
    "loss_list = []\n",
    "\n",
    "model.train().to(DEVICE)\n",
    "for epoch in range(EPOCHS):\n",
    "    total_loss = []\n",
    "    for batch_idx, (data, target) in enumerate(train_loader):\n",
    "        target = target.to(DEVICE)\n",
    "        optimizer.zero_grad()\n",
    "        data = data.to(torch.float32).to(DEVICE)\n",
    "\n",
    "        # Forward pass\n",
    "        output = model(data).to(DEVICE)\n",
    "\n",
    "        # Calculating loss\n",
    "        loss = loss_func(output, target).to(DEVICE)\n",
    "\n",
    "        # Backward pass\n",
    "        loss.backward()\n",
    "\n",
    "        # Optimize the weights\n",
    "        optimizer.step()\n",
    "\n",
    "        total_loss.append(loss.item())\n",
    "    loss_list.append(sum(total_loss) / len(total_loss))\n",
    "    print('Training [{:.0f}%]\\tLoss: {:.4f}'.format(100. * (epoch + 1) / EPOCHS, loss_list[-1]))\n",
    "\n",
    "torch.save(model.state_dict(), \"quan20211216.pt\")"
   ]
  },
  {
   "cell_type": "code",
   "execution_count": 19,
   "metadata": {},
   "outputs": [
    {
     "name": "stdout",
     "output_type": "stream",
     "text": [
      "Performance on test data:\n",
      "\tLoss: 0.6726\n",
      "\tAccuracy: 60.0%\n"
     ]
    }
   ],
   "source": [
    "model.load_state_dict(torch.load(\"quan20211216.pt\"))\n",
    "\n",
    "model.eval()\n",
    "with torch.no_grad():\n",
    "    correct = 0\n",
    "    total_loss = []\n",
    "    for batch_idx, (data, target) in enumerate(test_loader):\n",
    "        data = data.to(torch.float32).to(DEVICE)\n",
    "        target = target.to(DEVICE)\n",
    "        output = model(data).to(DEVICE)\n",
    "        pred = output.argmax(dim=1, keepdim=True)\n",
    "        correct += pred.eq(target.view_as(pred)).sum().item()\n",
    "        loss = loss_func(output, target)\n",
    "        total_loss.append(loss.item())\n",
    "    print('Performance on test data:\\n\\tLoss: {:.4f}\\n\\tAccuracy: {:.1f}%'.format(\n",
    "        sum(total_loss) / len(total_loss),\n",
    "        correct / len(test_loader) * 100 / BATCH_SIZE)\n",
    "        )"
   ]
  },
  {
   "cell_type": "code",
   "execution_count": null,
   "metadata": {},
   "outputs": [],
   "source": []
  }
 ],
 "metadata": {
  "interpreter": {
   "hash": "f260ccc973c61b6e572899df0e5c951827eb08ffb079566dc892ca52d9e7a013"
  },
  "kernelspec": {
   "display_name": "quan",
   "language": "python",
   "name": "python3"
  },
  "language_info": {
   "codemirror_mode": {
    "name": "ipython",
    "version": 3
   },
   "file_extension": ".py",
   "mimetype": "text/x-python",
   "name": "python",
   "nbconvert_exporter": "python",
   "pygments_lexer": "ipython3",
   "version": "3.7.0"
  }
 },
 "nbformat": 4,
 "nbformat_minor": 4
}
